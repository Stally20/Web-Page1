{
 "cells": [
  {
   "cell_type": "markdown",
   "metadata": {},
   "source": [
    "# CSS Review\n",
    "\n",
    "* In this activity we will review CSS by attempting to recreate a web page.\n",
    "\n",
    "\n",
    "## Instructions\n",
    "\n",
    "* Open [01_review.html](http://127.0.0.1:5000/01_review.html). For this activity, you are adding CSS styles to this file\n",
    "\n",
    "* Take a moment to study the image. The provided HTML file has all of the required elements included to create the web page described, but none of the CSS.\n",
    "\n",
    "  ![01-CSS-Review.png](01-CSS-Review.png)\n",
    "\n",
    "* Add styles to the `styles.css` file to make `index.html` look like the web page in `01-CSS-Review.png`.\n",
    "\n",
    "* Try to get your styles as close to the image as possible.\n",
    "\n",
    "* You can use [lorem ipsum](http://www.lipsum.com/) for the text.\n"
   ]
  },
  {
   "cell_type": "code",
   "execution_count": null,
   "metadata": {
    "collapsed": true
   },
   "outputs": [],
   "source": []
  }
 ],
 "metadata": {
  "kernelspec": {
   "display_name": "Python 3",
   "language": "python",
   "name": "python3"
  },
  "language_info": {
   "codemirror_mode": {
    "name": "ipython",
    "version": 3
   },
   "file_extension": ".py",
   "mimetype": "text/x-python",
   "name": "python",
   "nbconvert_exporter": "python",
   "pygments_lexer": "ipython3",
   "version": "3.6.3"
  }
 },
 "nbformat": 4,
 "nbformat_minor": 2
}
