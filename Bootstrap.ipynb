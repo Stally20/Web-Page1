{
 "cells": [
  {
   "cell_type": "markdown",
   "metadata": {},
   "source": [
    "### Bootstrap\n",
    "\n",
    "* Before Bootstrap arrived on the scene, you really did need to be a master of Photoshop and .css to design a compelling website. \n",
    "\n",
    "If you don't like the themes, check out:\n",
    "* [Bootswatch](https://bootswatch.com) - different templates for Bootswatch\n",
    "* [Tailwind](https://egghead.io/courses/build-user-interfaces-by-composing-css-utility-classes-with-tailwind?utm_source=drip&utm_medium=email&utm_content=tailwind&__s=gv3upb5otm9rsmygxcym)\n",
    "* [Google's Material Design Lite](https://getmdl.io)"
   ]
  },
  {
   "cell_type": "code",
   "execution_count": null,
   "metadata": {
    "collapsed": true
   },
   "outputs": [],
   "source": []
  }
 ],
 "metadata": {
  "kernelspec": {
   "display_name": "Python 3",
   "language": "python",
   "name": "python3"
  },
  "language_info": {
   "codemirror_mode": {
    "name": "ipython",
    "version": 3
   },
   "file_extension": ".py",
   "mimetype": "text/x-python",
   "name": "python",
   "nbconvert_exporter": "python",
   "pygments_lexer": "ipython3",
   "version": "3.6.3"
  }
 },
 "nbformat": 4,
 "nbformat_minor": 2
}
