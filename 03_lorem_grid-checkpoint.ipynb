{
 "cells": [
  {
   "cell_type": "markdown",
   "metadata": {},
   "source": [
    "# Lorem Grid\n",
    "\n",
    "* In this activity we will attempt to recreate a layout using the Bootstrap grid.\n",
    "\n",
    "## Instructions\n",
    "\n",
    "* Take a moment to study the image, and create this layout using the Bootstrap grid.\n",
    "\n",
    "![](04-Lorem-Grid.png)\n",
    "\n",
    "* You can use [lorem ipsum](http://www.lipsum.com/) for the text.\n",
    "\n",
    "* You can read about the grid system here: <http://getbootstrap.com/css/#grid>\n",
    "\n",
    "## Hints\n",
    "\n",
    "* Container > Row > Column\n"
   ]
  },
  {
   "cell_type": "code",
   "execution_count": null,
   "metadata": {
    "collapsed": true
   },
   "outputs": [],
   "source": []
  }
 ],
 "metadata": {
  "kernelspec": {
   "display_name": "Python 3",
   "language": "python",
   "name": "python3"
  },
  "language_info": {
   "codemirror_mode": {
    "name": "ipython",
    "version": 3
   },
   "file_extension": ".py",
   "mimetype": "text/x-python",
   "name": "python",
   "nbconvert_exporter": "python",
   "pygments_lexer": "ipython3",
   "version": "3.6.3"
  }
 },
 "nbformat": 4,
 "nbformat_minor": 2
}
