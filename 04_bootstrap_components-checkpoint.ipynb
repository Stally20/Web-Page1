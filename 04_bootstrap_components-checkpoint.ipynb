{
 "cells": [
  {
   "cell_type": "markdown",
   "metadata": {},
   "source": [
    "# Bootstrap Components\n",
    "\n",
    "* In this activity we will research and utilize Bootstrap components inside of an HTML document.\n",
    "\n",
    "## Instructions\n",
    "\n",
    "* With a partner, navigate to <http://getbootstrap.com/components/>\n",
    "\n",
    "* Create a new HTML file, try to include at least 10 different Bootstrap components in this file, and be ready to discuss after the activity.\n",
    "\n",
    "* You can add a Bootstrap component inside of your document by copying and pasting any of the examples on the Bootstrap Components page.\n"
   ]
  },
  {
   "cell_type": "code",
   "execution_count": null,
   "metadata": {
    "collapsed": true
   },
   "outputs": [],
   "source": []
  }
 ],
 "metadata": {
  "kernelspec": {
   "display_name": "Python 3",
   "language": "python",
   "name": "python3"
  },
  "language_info": {
   "codemirror_mode": {
    "name": "ipython",
    "version": 3
   },
   "file_extension": ".py",
   "mimetype": "text/x-python",
   "name": "python",
   "nbconvert_exporter": "python",
   "pygments_lexer": "ipython3",
   "version": "3.6.3"
  }
 },
 "nbformat": 4,
 "nbformat_minor": 2
}
